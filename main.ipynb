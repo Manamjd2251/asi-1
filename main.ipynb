!pip install wikipedia nltk scikit-learn

import nltk
nltk.download('stopwords')
nltk.download('punkt_tab')


import wikipedia
import nltk
from nltk.corpus import stopwords
from nltk.stem import PorterStemmer
from sklearn.feature_extraction.text import CountVectorizer
from sklearn.model_selection import train_test_split
from sklearn.naive_bayes import MultinomialNB
from sklearn.metrics import classification_report, confusion_matrix

nltk.download('punkt')
nltk.download('stopwords')

stop_words = set(stopwords.words('english'))
ps = PorterStemmer()

geographic_titles = [
    "Madrid", "Brazil", "Berlin", "United States", "Rome", "Pacific Ocean"
]

non_geographic_titles = [
    "Mathematics", "Computer science", "Economics", "Literature", "Philosophy", "Banana"
]

def fetch_wikipedia_texts(titles):
    texts = []
    for title in titles:
        try:
            page = wikipedia.page(title)
            texts.append(page.content)
        except Exception as e:
            print(f"Failed to fetch '{title}': {e}")
    return texts

def preprocess_text(text):
    tokens = nltk.word_tokenize(text.lower())
    tokens = [ps.stem(word) for word in tokens if word.isalpha() and word not in stop_words]
    return " ".join(tokens)

geo_texts = fetch_wikipedia_texts(geographic_titles)
non_geo_texts = fetch_wikipedia_texts(non_geographic_titles)

texts = geo_texts + non_geo_texts
labels = ["geographic"] * len(geo_texts) + ["non-geographic"] * len(non_geo_texts)

print("Preprocessing texts...")
texts_processed = [preprocess_text(t) for t in texts]

print("Vectorizing...")
vectorizer = CountVectorizer(max_features=3000)
X = vectorizer.fit_transform(texts_processed)

print("Splitting data...")
X_train, X_test, y_train, y_test = train_test_split(
    X, labels, test_size=0.3, random_state=42, stratify=labels
)

print("Training Naive Bayes classifier...")
nb = MultinomialNB()
nb.fit(X_train, y_train)

print("Predicting...")
y_pred = nb.predict(X_test)

print("\nConfusion Matrix:")
print(confusion_matrix(y_test, y_pred))

print("\nClassification Report:")
print(classification_report(y_test, y_pred, zero_division=0))
